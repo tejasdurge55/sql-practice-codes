{
  "metadata": {
    "language_info": {
      "file_extension": ".sqlite3-console",
      "mimetype": "text/x-sqlite3-console",
      "name": "sqlite3",
      "version": "0.4.0"
    },
    "kernelspec": {
      "name": "SQLite",
      "display_name": "SQLite",
      "language": "sql"
    }
  },
  "nbformat_minor": 4,
  "nbformat": 4,
  "cells": [
    {
      "cell_type": "code",
      "source": "----------------------------------------------------1/9/22 tejas durge-------------------------------------------------------",
      "metadata": {},
      "execution_count": null,
      "outputs": []
    },
    {
      "cell_type": "code",
      "source": "https://leetcode.com/problems/big-countries/",
      "metadata": {},
      "execution_count": null,
      "outputs": []
    },
    {
      "cell_type": "code",
      "source": "595. Big Countries\nEasy\n\n1205\n\n1002\n\nAdd to List\n\nShare\nSQL Schema\nTable: World\n\n+-------------+---------+\n| Column Name | Type    |\n+-------------+---------+\n| name        | varchar |\n| continent   | varchar |\n| area        | int     |\n| population  | int     |\n| gdp         | int     |\n+-------------+---------+\nname is the primary key column for this table.\nEach row of this table gives information about the name of a country, the continent to which it belongs, its area, the population, and its GDP value.\n \n\nA country is big if:\n\nit has an area of at least three million (i.e., 3000000 km2), or\nit has a population of at least twenty-five million (i.e., 25000000).\nWrite an SQL query to report the name, population, and area of the big countries.\n\nReturn the result table in any order.\n\nThe query result format is in the following example.\n\n \n\nExample 1:\n\nInput: \nWorld table:\n+-------------+-----------+---------+------------+--------------+\n| name        | continent | area    | population | gdp          |\n+-------------+-----------+---------+------------+--------------+\n| Afghanistan | Asia      | 652230  | 25500100   | 20343000000  |\n| Albania     | Europe    | 28748   | 2831741    | 12960000000  |\n| Algeria     | Africa    | 2381741 | 37100000   | 188681000000 |\n| Andorra     | Europe    | 468     | 78115      | 3712000000   |\n| Angola      | Africa    | 1246700 | 20609294   | 100990000000 |\n+-------------+-----------+---------+------------+--------------+\nOutput: \n+-------------+------------+---------+\n| name        | population | area    |\n+-------------+------------+---------+\n| Afghanistan | 25500100   | 652230  |\n| Algeria     | 37100000   | 2381741 |\n+-------------+------------+---------+",
      "metadata": {},
      "execution_count": null,
      "outputs": []
    },
    {
      "cell_type": "code",
      "source": "# Write your MySQL query statement below\nSELECT name,population,area\nFROM World\nWHERE area >= 3000000 or population >=25000000;",
      "metadata": {},
      "execution_count": null,
      "outputs": []
    },
    {
      "cell_type": "code",
      "source": "---------------------------------------------------------------------------------------------------------------------------",
      "metadata": {},
      "execution_count": null,
      "outputs": []
    },
    {
      "cell_type": "code",
      "source": "https://leetcode.com/problems/recyclable-and-low-fat-products/?envType=study-plan&id=sql-i",
      "metadata": {},
      "execution_count": null,
      "outputs": []
    },
    {
      "cell_type": "code",
      "source": "1757. Recyclable and Low Fat Products\nEasy\n\n488\n\n61\n\nAdd to List\n\nShare\nSQL Schema\nTable: Products\n\n+-------------+---------+\n| Column Name | Type    |\n+-------------+---------+\n| product_id  | int     |\n| low_fats    | enum    |\n| recyclable  | enum    |\n+-------------+---------+\nproduct_id is the primary key for this table.\nlow_fats is an ENUM of type ('Y', 'N') where 'Y' means this product is low fat and 'N' means it is not.\nrecyclable is an ENUM of types ('Y', 'N') where 'Y' means this product is recyclable and 'N' means it is not.\n \n\nWrite an SQL query to find the ids of products that are both low fat and recyclable.\n\nReturn the result table in any order.\n\nThe query result format is in the following example.\n\n \n\nExample 1:\n\nInput: \nProducts table:\n+-------------+----------+------------+\n| product_id  | low_fats | recyclable |\n+-------------+----------+------------+\n| 0           | Y        | N          |\n| 1           | Y        | Y          |\n| 2           | N        | Y          |\n| 3           | Y        | Y          |\n| 4           | N        | N          |\n+-------------+----------+------------+\nOutput: \n+-------------+\n| product_id  |\n+-------------+\n| 1           |\n| 3           |\n+-------------+\nExplanation: Only products 1 and 3 are both low fat and recyclable.",
      "metadata": {},
      "execution_count": null,
      "outputs": []
    },
    {
      "cell_type": "code",
      "source": "# Write your MySQL query statement below\nSELECT product_id \nFROM Products \nWHERE low_fats='Y' AND recyclable='Y';",
      "metadata": {},
      "execution_count": null,
      "outputs": []
    },
    {
      "cell_type": "code",
      "source": "------------------------------------------------------------------------------------------------------------------------------",
      "metadata": {},
      "execution_count": null,
      "outputs": []
    },
    {
      "cell_type": "code",
      "source": "https://leetcode.com/problems/find-customer-referee/?envType=study-plan&id=sql-i",
      "metadata": {},
      "execution_count": null,
      "outputs": []
    },
    {
      "cell_type": "code",
      "source": "584. Find Customer Referee\nEasy\n\n538\n\n222\n\nAdd to List\n\nShare\nSQL Schema\nTable: Customer\n\n+-------------+---------+\n| Column Name | Type    |\n+-------------+---------+\n| id          | int     |\n| name        | varchar |\n| referee_id  | int     |\n+-------------+---------+\nid is the primary key column for this table.\nEach row of this table indicates the id of a customer, their name, and the id of the customer who referred them.\n \n\nWrite an SQL query to report the names of the customer that are not referred by the customer with id = 2.\n\nReturn the result table in any order.\n\nThe query result format is in the following example.\n\n \n\nExample 1:\n\nInput: \nCustomer table:\n+----+------+------------+\n| id | name | referee_id |\n+----+------+------------+\n| 1  | Will | null       |\n| 2  | Jane | null       |\n| 3  | Alex | 2          |\n| 4  | Bill | null       |\n| 5  | Zack | 1          |\n| 6  | Mark | 2          |\n+----+------+------------+\nOutput: \n+------+\n| name |\n+------+\n| Will |\n| Jane |\n| Bill |\n| Zack |\n+------+",
      "metadata": {},
      "execution_count": null,
      "outputs": []
    },
    {
      "cell_type": "code",
      "source": "# Write your MySQL query statement below\nSELECT name \nFROM Customer\nWHERE referee_id != 2 or referee_id is null ;",
      "metadata": {},
      "execution_count": null,
      "outputs": []
    },
    {
      "cell_type": "code",
      "source": "--------------------------------------------------------------------------------------------------------------------------",
      "metadata": {},
      "execution_count": null,
      "outputs": []
    },
    {
      "cell_type": "code",
      "source": "https://leetcode.com/problems/customers-who-never-order/?envType=study-plan&id=sql-i",
      "metadata": {},
      "execution_count": null,
      "outputs": []
    },
    {
      "cell_type": "code",
      "source": "183. Customers Who Never Order\nEasy\n\n1446\n\n92\n\nAdd to List\n\nShare\nSQL Schema\nTable: Customers\n\n+-------------+---------+\n| Column Name | Type    |\n+-------------+---------+\n| id          | int     |\n| name        | varchar |\n+-------------+---------+\nid is the primary key column for this table.\nEach row of this table indicates the ID and name of a customer.\n \n\nTable: Orders\n\n+-------------+------+\n| Column Name | Type |\n+-------------+------+\n| id          | int  |\n| customerId  | int  |\n+-------------+------+\nid is the primary key column for this table.\ncustomerId is a foreign key of the ID from the Customers table.\nEach row of this table indicates the ID of an order and the ID of the customer who ordered it.\n \n\nWrite an SQL query to report all customers who never order anything.\n\nReturn the result table in any order.\n\nThe query result format is in the following example.\n\n \n\nExample 1:\n\nInput: \nCustomers table:\n+----+-------+\n| id | name  |\n+----+-------+\n| 1  | Joe   |\n| 2  | Henry |\n| 3  | Sam   |\n| 4  | Max   |\n+----+-------+\nOrders table:\n+----+------------+\n| id | customerId |\n+----+------------+\n| 1  | 3          |\n| 2  | 1          |\n+----+------------+\nOutput: \n+-----------+\n| Customers |\n+-----------+\n| Henry     |\n| Max       |\n+-----------+",
      "metadata": {},
      "execution_count": null,
      "outputs": []
    },
    {
      "cell_type": "code",
      "source": "# Write your MySQL query statement below\nSELECT c.name AS 'Customers'\nFROM Customers c\nleft JOIN Orders o\n    ON c.id=o.customerId \nWHERE o.customerId is null;\n#WHERE C.id != Orders.customerId;",
      "metadata": {},
      "execution_count": null,
      "outputs": []
    },
    {
      "cell_type": "code",
      "source": "---------------------------------------------------------------------------------------------------------------------------",
      "metadata": {},
      "execution_count": null,
      "outputs": []
    },
    {
      "cell_type": "code",
      "source": "https://leetcode.com/problems/calculate-special-bonus/?envType=study-plan&id=sql-i",
      "metadata": {},
      "execution_count": null,
      "outputs": []
    },
    {
      "cell_type": "code",
      "source": "1873. Calculate Special Bonus\nEasy\n\n445\n\n33\n\nAdd to List\n\nShare\nSQL Schema\nTable: Employees\n\n+-------------+---------+\n| Column Name | Type    |\n+-------------+---------+\n| employee_id | int     |\n| name        | varchar |\n| salary      | int     |\n+-------------+---------+\nemployee_id is the primary key for this table.\nEach row of this table indicates the employee ID, employee name, and salary.\n \n\nWrite an SQL query to calculate the bonus of each employee. The bonus of an employee is 100% of their salary if the ID of the employee is an odd number and the employee name does not start with the character 'M'. The bonus of an employee is 0 otherwise.\n\nReturn the result table ordered by employee_id.\n\nThe query result format is in the following example.\n\n \n\nExample 1:\n\nInput: \nEmployees table:\n+-------------+---------+--------+\n| employee_id | name    | salary |\n+-------------+---------+--------+\n| 2           | Meir    | 3000   |\n| 3           | Michael | 3800   |\n| 7           | Addilyn | 7400   |\n| 8           | Juan    | 6100   |\n| 9           | Kannon  | 7700   |\n+-------------+---------+--------+\nOutput: \n+-------------+-------+\n| employee_id | bonus |\n+-------------+-------+\n| 2           | 0     |\n| 3           | 0     |\n| 7           | 7400  |\n| 8           | 0     |\n| 9           | 7700  |\n+-------------+-------+\nExplanation: \nThe employees with IDs 2 and 8 get 0 bonus because they have an even employee_id.\nThe employee with ID 3 gets 0 bonus because their name starts with 'M'.\nThe rest of the employees get a 100% bonus.",
      "metadata": {},
      "execution_count": null,
      "outputs": []
    },
    {
      "cell_type": "code",
      "source": "# Write your MySQL query statement below\nSELECT employee_id,\nCASE \n    WHEN employee_id%2=1 and name NOT Like 'M%' then salary\n    else salary=0\n    end as bonus\nFROM Employees\nORDER BY employee_id;",
      "metadata": {},
      "execution_count": null,
      "outputs": []
    },
    {
      "cell_type": "code",
      "source": "--------------------------------------------------------------------------------------------------------------------------",
      "metadata": {},
      "execution_count": null,
      "outputs": []
    },
    {
      "cell_type": "code",
      "source": "https://leetcode.com/problems/swap-salary/?envType=study-plan&id=sql-i",
      "metadata": {},
      "execution_count": null,
      "outputs": []
    },
    {
      "cell_type": "code",
      "source": "627. Swap Salary\nEasy\n\n1143\n\n528\n\nAdd to List\n\nShare\nSQL Schema\nTable: Salary\n\n+-------------+----------+\n| Column Name | Type     |\n+-------------+----------+\n| id          | int      |\n| name        | varchar  |\n| sex         | ENUM     |\n| salary      | int      |\n+-------------+----------+\nid is the primary key for this table.\nThe sex column is ENUM value of type ('m', 'f').\nThe table contains information about an employee.\n \n\nWrite an SQL query to swap all 'f' and 'm' values (i.e., change all 'f' values to 'm' and vice versa) with a single update statement and no intermediate temporary tables.\n\nNote that you must write a single update statement, do not write any select statement for this problem.\n\nThe query result format is in the following example.\n\n \n\nExample 1:\n\nInput: \nSalary table:\n+----+------+-----+--------+\n| id | name | sex | salary |\n+----+------+-----+--------+\n| 1  | A    | m   | 2500   |\n| 2  | B    | f   | 1500   |\n| 3  | C    | m   | 5500   |\n| 4  | D    | f   | 500    |\n+----+------+-----+--------+\nOutput: \n+----+------+-----+--------+\n| id | name | sex | salary |\n+----+------+-----+--------+\n| 1  | A    | f   | 2500   |\n| 2  | B    | m   | 1500   |\n| 3  | C    | f   | 5500   |\n| 4  | D    | m   | 500    |\n+----+------+-----+--------+\nExplanation: \n(1, A) and (3, C) were changed from 'm' to 'f'.\n(2, B) and (4, D) were changed from 'f' to 'm'.",
      "metadata": {},
      "execution_count": null,
      "outputs": []
    },
    {
      "cell_type": "code",
      "source": "UPDATE salary\n    SET sex  = (CASE WHEN sex = 'm' \n        THEN  'f' \n        ELSE 'm' \n        END)",
      "metadata": {},
      "execution_count": null,
      "outputs": []
    },
    {
      "cell_type": "code",
      "source": "----------------------------------------------------1/9/22 tejas durge-------------------------------------------------------",
      "metadata": {},
      "execution_count": null,
      "outputs": []
    }
  ]
}